{
 "cells": [
  {
   "cell_type": "markdown",
   "metadata": {},
   "source": [
    "from selenium import webdriver\n",
    "from selenium.webdriver.chrome.service import Service\n",
    "from selenium.webdriver.chrome.options import Options\n",
    "from selenium.webdriver.common.by import By\n",
    "from selenium.webdriver.support.ui import WebDriverWait\n",
    "from selenium.webdriver.support import expected_conditions as EC\n",
    "from webdriver_manager.chrome import ChromeDriverManager\n",
    "from bs4 import BeautifulSoup as bs\n",
    "import pandas as pd\n",
    "import time"
   ]
  },
  {
   "cell_type": "code",
   "execution_count": 16,
   "metadata": {},
   "outputs": [],
   "source": [
    "from selenium import webdriver\n",
    "from selenium.webdriver.chrome.service import Service\n",
    "from selenium.webdriver.chrome.options import Options\n",
    "from selenium.webdriver.common.by import By\n",
    "from selenium.webdriver.support.ui import WebDriverWait\n",
    "from selenium.webdriver.support import expected_conditions as EC\n",
    "from webdriver_manager.chrome import ChromeDriverManager\n",
    "from bs4 import BeautifulSoup as bs\n",
    "import pandas as pd\n",
    "from urllib.parse import urljoin"
   ]
  },
  {
   "cell_type": "code",
   "execution_count": null,
   "metadata": {},
   "outputs": [
    {
     "name": "stdout",
     "output_type": "stream",
     "text": [
      "Title: Advances in NASA Imaging Changed How World Sees Mars\n",
      "Paragraph: Sixty years ago, NASA’s Mariner 4 captured groundbreaking views of the Red Planet, leading to a steady stream of advances in the cameras used to study other worlds. In 1965, NASA’s Mariner 4 mission brought Mars into American living rooms,…\n",
      "\n",
      "Title: NASA Mars Orbiter Learns New Moves After Nearly 20 Years in Space\n",
      "Paragraph: The Mars Reconnaissance Orbiter is testing a series of large spacecraft rolls that will help it hunt for water. After nearly 20 years of operations, NASA’s Mars Reconnaissance Orbiter (MRO) is on a roll, performing a new maneuver to squeeze…\n",
      "\n",
      "Title: NASA’s Perseverance Rover Scours Mars for Science\n",
      "Paragraph: In addition to drilling rock core samples, the science team has been grinding its way into rocks to make sense of the scientific evidence hiding just below the surface. On June 3, NASA’s Perseverance Mars rover ground down a portion…\n",
      "\n",
      "Title: NASA’s Curiosity Mars Rover Starts Unpacking Boxwork Formations\n",
      "Paragraph: The rover recently drilled a sample from a new region with features that could reveal whether Mars’ subsurface once provided an environment suitable for life. New images from NASA’s Curiosity Mars rover show the first close-up views of a region…\n",
      "\n",
      "Title: Paul Morris: Filming the Final Frontier\n",
      "Paragraph: Video Producer – Goddard Space Flight Center What sparked your interest in video production, and what drew you to NASA?  Ever since I saw “Star Wars” at nine years old, I knew I wanted to make movies. I would make…\n",
      "\n",
      "Title: NASA Mars Orbiter Captures Volcano Peeking Above Morning Cloud Tops\n",
      "Paragraph: The 2001 Odyssey spacecraft captured a first-of-its-kind look at Arsia Mons, which dwarfs Earth’s tallest volcanoes. A new panorama from NASA’s 2001 Mars Odyssey orbiter shows one of the Red Planet’s biggest volcanoes, Arsia Mons, poking through a canopy of…\n",
      "\n",
      "Title: NASA’s MAVEN Makes First Observation of Atmospheric Sputtering at Mars\n",
      "Paragraph: After a decade of searching, NASA’s MAVEN (Mars Atmosphere Volatile Evolution) mission has, for the first time, reported a direct observation of an elusive atmospheric escape process called sputtering that could help answer longstanding questions about the history of water…\n",
      "\n",
      "Title: Devil’s in Details in Selfie Taken by NASA’s Mars Perseverance Rover\n",
      "Paragraph: The rover took the image — its fifth since landing in February 2021 — between stops investigating the Martian surface. A Martian dust devil photobombed NASA’s Perseverance Mars rover as it took a selfie on May 10 to mark its…\n",
      "\n",
      "Title: NASA’s Perseverance Mars Rover to Take Bite Out of ‘Krokodillen’\n",
      "Paragraph: Scientists expect the new area of interest on the lower slope of Jezero Crater’s rim to offer up some of the oldest rocks on the Red Planet. NASA’s Perseverance Mars rover is exploring a new region of interest the team…\n",
      "\n",
      "Title: NASA Observes First Visible-light Auroras at Mars\n",
      "Paragraph: On March 15, 2024, near the peak of the current solar cycle, the Sun produced a solar flare and an accompanying coronal mass ejection (CME), a massive explosion of gas and magnetic energy that carries with it large amounts of…\n",
      "\n"
     ]
    }
   ],
   "source": [
    "# Launch browser\n",
    "def launch_driver(headless=False):\n",
    "    chrome_options = Options()\n",
    "    chrome_options.binary_location = '/usr/bin/google-chrome'\n",
    "    if headless:\n",
    "        chrome_options.add_argument('--headless')\n",
    "        chrome_options.add_argument('--disable-gpu')\n",
    "        chrome_options.add_argument('--no-sandbox')\n",
    "    service = Service(ChromeDriverManager().install())\n",
    "    return webdriver.Chrome(service=service, options=chrome_options)\n",
    "\n",
    "driver = launch_driver()\n",
    "\n",
    "try:\n",
    "    url = 'https://science.nasa.gov/mars/stories/'\n",
    "    driver.get(url)\n",
    "\n",
    "    # Wait for page to load at least one article\n",
    "    WebDriverWait(driver, 10).until(\n",
    "        EC.presence_of_element_located((By.CLASS_NAME, 'hds-content-item-heading'))\n",
    "    )\n",
    "\n",
    "    html = driver.page_source\n",
    "    soup = bs(html, 'html.parser')\n",
    "\n",
    "    # Find all article links\n",
    "    articles = soup.find_all('a', class_='hds-content-item-heading')\n",
    "\n",
    "    for article in articles:\n",
    "        title_tag = article.find('div', class_='hds-a11y-heading-22')\n",
    "        href = article.get('href')\n",
    "\n",
    "        if title_tag and href:\n",
    "            title = title_tag.get_text(strip=True)\n",
    "            print(f\"Title: {title}\")\n",
    "            print(f\"Link: {href}\\n\")\n",
    "\n",
    "except Exception as e:\n",
    "    print(\"Error:\", e)\n",
    "\n",
    "finally:\n",
    "    driver.quit()"
   ]
  },
  {
   "cell_type": "markdown",
   "metadata": {},
   "source": [
    "## JPL Mars Space Images - Featured Image\n",
    "* Visit the url for JPL Featured Space Image at https://www.jpl.nasa.gov/images/?search=&category=Mars.\n",
    "* Use splinter to navigate the site and find the image url for the current Featured Mars Image and assign the url string to a variable called 'featured_image_url'.\n",
    "* Make sure to find the image url to the full size .jpg image.\n",
    "* Make sure to save a complete url string for this image."
   ]
  },
  {
   "cell_type": "code",
   "execution_count": 18,
   "metadata": {},
   "outputs": [
    {
     "name": "stdout",
     "output_type": "stream",
     "text": [
      "Featured Mars Image URL: https://d2pn8kiwq2w21t.cloudfront.net/images/jpegPIA26580.2e16d0ba.fill-400x400-c50.jpg\n"
     ]
    }
   ],
   "source": [
    "driver = launch_driver()\n",
    "\n",
    "try:\n",
    "    # Navigate to JPL Mars Images\n",
    "    url = \"https://www.jpl.nasa.gov/images?search=&category=Mars\"\n",
    "    driver.get(url)\n",
    "\n",
    "    # Wait for image to load\n",
    "    WebDriverWait(driver, 10).until(\n",
    "        EC.presence_of_element_located((By.CLASS_NAME, \"BaseImage\"))\n",
    "    )\n",
    "\n",
    "    # Parse HTML\n",
    "    html = driver.page_source\n",
    "    soup = bs(html, \"html.parser\")\n",
    "\n",
    "    # Find featured image\n",
    "    image_tag = soup.find(\"img\", class_=\"BaseImage\")\n",
    "    featured_image_url = image_tag[\"src\"]\n",
    "\n",
    "    print(\"Featured Mars Image URL:\", featured_image_url)\n",
    "\n",
    "except Exception as e:\n",
    "    print(\"Error:\", e)\n",
    "\n",
    "finally:\n",
    "    driver.quit()"
   ]
  },
  {
   "cell_type": "markdown",
   "metadata": {},
   "source": [
    "## Mars Weather\n",
    "* Visit the Curiosity Rover Updates at https://science.nasa.gov/mission/msl-curiosity/science-updates/\n",
    "* Scrape the latest news. \n",
    "* Save the tweet text for the weather report as a variable called 'curiosity_updates'."
   ]
  },
  {
   "cell_type": "code",
   "execution_count": 19,
   "metadata": {},
   "outputs": [
    {
     "name": "stdout",
     "output_type": "stream",
     "text": [
      "Curiosity Blog, Sols 4593-4594: Three Layers and a Lot of Structure at Volcán Peña Blanca (Jul 10, 2025)\n",
      "Written by Susanne P. Schwenzer, Professor of Planetary Mineralogy at The Open University, UK Earth planning date: Monday, July 7, 2025 A few planning sols ago, we spotted a small ridge in the landscape ahead of us. Ridges and structures…\n",
      "Link: https://science.nasa.gov/blog/curiosity-blog-sols-4593-4594-three-layers-and-a-lot-of-structure-at-volcan-pena-blanca/\n"
     ]
    }
   ],
   "source": [
    "driver = launch_driver()\n",
    "\n",
    "try:\n",
    "    url = \"https://science.nasa.gov/mission/msl-curiosity/science-updates/\"\n",
    "    driver.get(url)\n",
    "\n",
    "    # Wait for blog content to appear\n",
    "    WebDriverWait(driver, 10).until(\n",
    "        EC.presence_of_element_located((By.CLASS_NAME, \"hds-content-item-heading\"))\n",
    "    )\n",
    "\n",
    "    # Parse with BeautifulSoup\n",
    "    html = driver.page_source\n",
    "    soup = bs(html, \"html.parser\")\n",
    "\n",
    "    # Get the first blog entry\n",
    "    first_entry = soup.find(\"a\", class_=\"hds-content-item-heading\")\n",
    "    title = first_entry.find(\"div\", class_=\"hds-a11y-heading-22\").get_text(strip=True)\n",
    "    link = first_entry[\"href\"]\n",
    "\n",
    "    description_tag = first_entry.find_next(\"p\", class_=\"margin-top-0 margin-bottom-1\")\n",
    "    description = description_tag.get_text(strip=True) if description_tag else \"\"\n",
    "\n",
    "    date_tag = first_entry.find_next(\"div\", class_=\"label margin-y-1\")\n",
    "    post_date = date_tag.get_text(strip=True) if date_tag else \"\"\n",
    "\n",
    "    # Combine into a single string\n",
    "    curiosity_updates = f\"{title} ({post_date})\\n{description}\\nLink: {link}\"\n",
    "    print(curiosity_updates)\n",
    "\n",
    "except Exception as e:\n",
    "    print(\"Error while scraping Curiosity updates:\", e)\n",
    "\n",
    "finally:\n",
    "    driver.quit()"
   ]
  },
  {
   "cell_type": "markdown",
   "metadata": {},
   "source": [
    "## Mars Facts\n",
    "* Visit the Mars Facts webpage at https://space-facts.com/mars/\n",
    "* Use Pandas to scrape the table containing facts about the planet including Diameter, Mass, etc.\n",
    "* Use Pandas to convert the data to a HTML table string."
   ]
  },
  {
   "cell_type": "code",
   "execution_count": 22,
   "metadata": {},
   "outputs": [
    {
     "name": "stdout",
     "output_type": "stream",
     "text": [
      "                                               Mars\n",
      "Description                                        \n",
      "Equatorial Diameter:                       6,792 km\n",
      "Polar Diameter:                            6,752 km\n",
      "Mass:                 6.39 × 10^23 kg (0.11 Earths)\n",
      "Moons:                          2 (Phobos & Deimos)\n",
      "Orbit Distance:            227,943,824 km (1.38 AU)\n",
      "Orbit Period:                  687 days (1.9 years)\n",
      "Surface Temperature:                   -87 to -5 °C\n",
      "First Record:                     2nd millennium BC\n",
      "Recorded By:                   Egyptian astronomers\n"
     ]
    }
   ],
   "source": [
    "# Target URL\n",
    "facts_url = \"https://space-facts.com/mars/\"\n",
    "\n",
    "# Read all tables on the page\n",
    "tables = pd.read_html(facts_url)\n",
    "\n",
    "# The main Mars facts table is usually the first one\n",
    "df = tables[0]\n",
    "\n",
    "# Clean and format the DataFrame\n",
    "df.columns = ['Description', 'Mars']\n",
    "df.set_index('Description', inplace=True)\n",
    "\n",
    "# Preview cleaned table\n",
    "print(df)"
   ]
  },
  {
   "cell_type": "code",
   "execution_count": 23,
   "metadata": {},
   "outputs": [
    {
     "name": "stdout",
     "output_type": "stream",
     "text": [
      "<table class=\"dataframe table table-striped\">  <thead>    <tr style=\"text-align: right;\">      <th></th>      <th>Mars</th>    </tr>    <tr>      <th>Description</th>      <th></th>    </tr>  </thead>  <tbody>    <tr>      <th>Equatorial Diameter:</th>      <td>6,792 km</td>    </tr>    <tr>      <th>Polar Diameter:</th>      <td>6,752 km</td>    </tr>    <tr>      <th>Mass:</th>      <td>6.39 × 10^23 kg (0.11 Earths)</td>    </tr>    <tr>      <th>Moons:</th>      <td>2 (Phobos &amp; Deimos)</td>    </tr>    <tr>      <th>Orbit Distance:</th>      <td>227,943,824 km (1.38 AU)</td>    </tr>    <tr>      <th>Orbit Period:</th>      <td>687 days (1.9 years)</td>    </tr>    <tr>      <th>Surface Temperature:</th>      <td>-87 to -5 °C</td>    </tr>    <tr>      <th>First Record:</th>      <td>2nd millennium BC</td>    </tr>    <tr>      <th>Recorded By:</th>      <td>Egyptian astronomers</td>    </tr>  </tbody></table>\n"
     ]
    }
   ],
   "source": [
    "# Convert to HTML string\n",
    "mars_df_html = df.to_html(classes=\"table table-striped\", border=0)\n",
    "mars_df_html = mars_df_html.replace(\"\\n\", \"\")\n",
    "\n",
    "# Save to HTML file\n",
    "df.to_html('mars_facts.html', classes=\"table table-striped\", border=0)\n",
    "\n",
    "# Optional: Save HTML string to a variable for use in dashboards\n",
    "print(mars_df_html)"
   ]
  },
  {
   "cell_type": "markdown",
   "metadata": {},
   "source": [
    "## Mars Map\n",
    "* Visit the USGS Astrogeology site of ArcGIS Mars Interactive Map Viewer located at: https://usgs.maps.arcgis.com/apps/webappviewer/index.html?id=f693b580b2464e6989f32e4266199552\n",
    "* Embed the ArcGIS Mars Interactive Map Viewer"
   ]
  },
  {
   "cell_type": "code",
   "execution_count": null,
   "metadata": {
    "vscode": {
     "languageId": "plaintext"
    }
   },
   "outputs": [],
   "source": [
    "<iframe \n",
    "    src=\"https://usgs.maps.arcgis.com/apps/webappviewer/index.html?id=f693b580b2464e6989f32e4266199552\" \n",
    "    width=\"100%\" \n",
    "    height=\"800\" \n",
    "    style=\"border:none;\"\n",
    "    allowfullscreen\n",
    "    loading=\"lazy\">\n",
    "</iframe>\n"
   ]
  },
  {
   "cell_type": "code",
   "execution_count": 26,
   "metadata": {},
   "outputs": [
    {
     "data": {
      "text/html": [
       "\n",
       "        <iframe\n",
       "            width=\"100%\"\n",
       "            height=\"800\"\n",
       "            src=\"https://usgs.maps.arcgis.com/apps/webappviewer/index.html?id=f693b580b2464e6989f32e4266199552\"\n",
       "            frameborder=\"0\"\n",
       "            allowfullscreen\n",
       "            \n",
       "        ></iframe>\n",
       "        "
      ],
      "text/plain": [
       "<IPython.lib.display.IFrame at 0x7c280bd78fa0>"
      ]
     },
     "execution_count": 26,
     "metadata": {},
     "output_type": "execute_result"
    }
   ],
   "source": [
    "from IPython.display import IFrame\n",
    "\n",
    "IFrame(\n",
    "    src=\"https://usgs.maps.arcgis.com/apps/webappviewer/index.html?id=f693b580b2464e6989f32e4266199552\",\n",
    "    width='100%',\n",
    "    height=800\n",
    ")\n"
   ]
  },
  {
   "cell_type": "code",
   "execution_count": null,
   "metadata": {},
   "outputs": [],
   "source": []
  }
 ],
 "metadata": {
  "kernelspec": {
   "display_name": "Python 3 (ipykernel)",
   "language": "python",
   "name": "python3"
  },
  "language_info": {
   "codemirror_mode": {
    "name": "ipython",
    "version": 3
   },
   "file_extension": ".py",
   "mimetype": "text/x-python",
   "name": "python",
   "nbconvert_exporter": "python",
   "pygments_lexer": "ipython3",
   "version": "3.10.12"
  }
 },
 "nbformat": 4,
 "nbformat_minor": 2
}
